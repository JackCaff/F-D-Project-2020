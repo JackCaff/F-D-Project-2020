{
 "cells": [
  {
   "cell_type": "markdown",
   "metadata": {},
   "source": [
    "### Title: *Fundamentals of Data Analysis Project-2020*\n",
    "\n",
    "#### Author: *Jack Caffrey*\n",
    "\n",
    "***\n",
    "####  *Purpose* \n",
    "To perform and explain Simple Linear Regression for the powerproduction data set as provided as part of Project 2020 for the Fundamentals of Data Analysis module. The goal is to accurately predict wind turbine power output from wind speed values using the data set as a basis. [1]\n",
    "\n",
    "***\n",
    "#### Method Used to Complete Assignment\n",
    "\n",
    "1. Read in the powerproduction data set using **pd.read_csv**. \n",
    "2. Display a Linear Regression graph using the seaborn library. \n",
    "3. Research Simple Linear Regression. \n",
    "4. Calculate the Regression Equation. \n",
    "5. Calculate R-Squared Value. \n",
    "6. Conclusion. \n",
    "\n",
    "***\n",
    "#### Referneces \n",
    "[1]. I.Mcloughlin; \"Task 2020 Fundamentals of Data Analysis\"  \n",
    "[2]. Mastering Markdown; Github; https://guides.github.com/features/mastering-markdown/  \n",
    "[3]. GitHub Inc,; \"GitHub,\"; https://github.com/  "
   ]
  },
  {
   "cell_type": "markdown",
   "metadata": {},
   "source": [
    "https://www.socscistatistics.com/tests/regression/default.aspx"
   ]
  },
  {
   "cell_type": "code",
   "execution_count": 1,
   "metadata": {},
   "outputs": [],
   "source": [
    "#imports the required libraries\n",
    "import seaborn as sns \n",
    "import matplotlib.pyplot as plt\n",
    "import pandas as pd\n",
    "import numpy as np\n",
    "import statistics"
   ]
  },
  {
   "cell_type": "code",
   "execution_count": 2,
   "metadata": {},
   "outputs": [
    {
     "data": {
      "text/html": [
       "<div>\n",
       "<style scoped>\n",
       "    .dataframe tbody tr th:only-of-type {\n",
       "        vertical-align: middle;\n",
       "    }\n",
       "\n",
       "    .dataframe tbody tr th {\n",
       "        vertical-align: top;\n",
       "    }\n",
       "\n",
       "    .dataframe thead th {\n",
       "        text-align: right;\n",
       "    }\n",
       "</style>\n",
       "<table border=\"1\" class=\"dataframe\">\n",
       "  <thead>\n",
       "    <tr style=\"text-align: right;\">\n",
       "      <th></th>\n",
       "      <th>speed</th>\n",
       "      <th>power</th>\n",
       "    </tr>\n",
       "  </thead>\n",
       "  <tbody>\n",
       "    <tr>\n",
       "      <th>0</th>\n",
       "      <td>0.000</td>\n",
       "      <td>0.0</td>\n",
       "    </tr>\n",
       "    <tr>\n",
       "      <th>1</th>\n",
       "      <td>0.125</td>\n",
       "      <td>0.0</td>\n",
       "    </tr>\n",
       "    <tr>\n",
       "      <th>2</th>\n",
       "      <td>0.150</td>\n",
       "      <td>0.0</td>\n",
       "    </tr>\n",
       "    <tr>\n",
       "      <th>3</th>\n",
       "      <td>0.225</td>\n",
       "      <td>0.0</td>\n",
       "    </tr>\n",
       "    <tr>\n",
       "      <th>4</th>\n",
       "      <td>0.275</td>\n",
       "      <td>0.0</td>\n",
       "    </tr>\n",
       "    <tr>\n",
       "      <th>...</th>\n",
       "      <td>...</td>\n",
       "      <td>...</td>\n",
       "    </tr>\n",
       "    <tr>\n",
       "      <th>495</th>\n",
       "      <td>24.775</td>\n",
       "      <td>0.0</td>\n",
       "    </tr>\n",
       "    <tr>\n",
       "      <th>496</th>\n",
       "      <td>24.850</td>\n",
       "      <td>0.0</td>\n",
       "    </tr>\n",
       "    <tr>\n",
       "      <th>497</th>\n",
       "      <td>24.875</td>\n",
       "      <td>0.0</td>\n",
       "    </tr>\n",
       "    <tr>\n",
       "      <th>498</th>\n",
       "      <td>24.950</td>\n",
       "      <td>0.0</td>\n",
       "    </tr>\n",
       "    <tr>\n",
       "      <th>499</th>\n",
       "      <td>25.000</td>\n",
       "      <td>0.0</td>\n",
       "    </tr>\n",
       "  </tbody>\n",
       "</table>\n",
       "<p>500 rows × 2 columns</p>\n",
       "</div>"
      ],
      "text/plain": [
       "      speed  power\n",
       "0     0.000    0.0\n",
       "1     0.125    0.0\n",
       "2     0.150    0.0\n",
       "3     0.225    0.0\n",
       "4     0.275    0.0\n",
       "..      ...    ...\n",
       "495  24.775    0.0\n",
       "496  24.850    0.0\n",
       "497  24.875    0.0\n",
       "498  24.950    0.0\n",
       "499  25.000    0.0\n",
       "\n",
       "[500 rows x 2 columns]"
      ]
     },
     "execution_count": 2,
     "metadata": {},
     "output_type": "execute_result"
    }
   ],
   "source": [
    "dfpowerproduction = pd.read_csv(\"https://raw.githubusercontent.com/ianmcloughlin/2020A-machstat-project/master/dataset/powerproduction.csv\")\n",
    "dfpowerproduction #displays imported csv files from dfpowerproduction"
   ]
  },
  {
   "cell_type": "markdown",
   "metadata": {},
   "source": [
    "****\n",
    "#### *Simple Linear Regression Plot*"
   ]
  },
  {
   "cell_type": "code",
   "execution_count": 3,
   "metadata": {},
   "outputs": [
    {
     "data": {
      "image/png": "[encoded data removed]",
      "text/plain": [
       "<Figure size 360x360 with 1 Axes>"
      ]
     },
     "metadata": {
      "needs_background": "light"
     },
     "output_type": "display_data"
    }
   ],
   "source": [
    "sns.lmplot(data=dfpowerproduction, x=\"speed\", y=\"power\"); #display Linear Regression Plot"
   ]
  },
  {
   "cell_type": "markdown",
   "metadata": {},
   "source": [
    "*** \n",
    "#### *Regression Calculation*"
   ]
  },
  {
   "cell_type": "code",
   "execution_count": 4,
   "metadata": {},
   "outputs": [],
   "source": [
    "Speeddata = dfpowerproduction ['speed'] # Seperate speed column\n",
    "Powerdata = dfpowerproduction ['power'] # Seperate speed column"
   ]
  },
  {
   "cell_type": "code",
   "execution_count": 5,
   "metadata": {},
   "outputs": [
    {
     "name": "stdout",
     "output_type": "stream",
     "text": [
      "The sum of X = 6295.199\n"
     ]
    }
   ],
   "source": [
    "xsum = round(sum(Speeddata), 4) # Sum speed column data\n",
    "print (\"The sum of X =\", xsum)"
   ]
  },
  {
   "cell_type": "code",
   "execution_count": 6,
   "metadata": {},
   "outputs": [
    {
     "name": "stdout",
     "output_type": "stream",
     "text": [
      "The sum of Y = 24007.292\n"
     ]
    }
   ],
   "source": [
    "ysum = round(sum(Powerdata), 4) # Sum power column data\n",
    "print (\"The sum of Y =\", ysum)"
   ]
  },
  {
   "cell_type": "code",
   "execution_count": 7,
   "metadata": {},
   "outputs": [
    {
     "name": "stdout",
     "output_type": "stream",
     "text": [
      "Average(Mean) of X = 12.5904\n"
     ]
    }
   ],
   "source": [
    "# https://appdividend.com/2019/01/28/python-statistics-tutorial-mean-function-example/#:~:text=To%20calculate%20the%20mean%20in,data%20set%20passed%20as%20parameters.\n",
    "xmean = round(statistics.mean(Speeddata),4) # Calculate mean of speed data \n",
    "print (\"Average(Mean) of X =\", xmean)"
   ]
  },
  {
   "cell_type": "code",
   "execution_count": 8,
   "metadata": {},
   "outputs": [
    {
     "name": "stdout",
     "output_type": "stream",
     "text": [
      "Average(Mean) of Y = 48.0146\n"
     ]
    }
   ],
   "source": [
    "# https://www.w3schools.com/python/ref_func_round.asp round \n",
    "ymean = round(statistics.mean(Powerdata),4) # Calculate mean of power data \n",
    "print (\"Average(Mean) of Y =\", ymean)"
   ]
  },
  {
   "cell_type": "code",
   "execution_count": 9,
   "metadata": {},
   "outputs": [
    {
     "name": "stdout",
     "output_type": "stream",
     "text": [
      "Sum of Squares= 26048.0487\n"
     ]
    }
   ],
   "source": [
    "# https://pandas.pydata.org/pandas-docs/stable/reference/api/pandas.DataFrame.sub.html#pandas.DataFrame.sub\n",
    "# Calculate Sum of Squares\n",
    "x = round(((dfpowerproduction ['speed'] - xmean)**2),4) \n",
    "newx = round(sum(x),4)\n",
    "print (\"Sum of Squares=\", newx)"
   ]
  },
  {
   "cell_type": "code",
   "execution_count": 10,
   "metadata": {},
   "outputs": [
    {
     "name": "stdout",
     "output_type": "stream",
     "text": [
      "Sum of products = 128093.7708\n"
     ]
    }
   ],
   "source": [
    "# Calculate Sum of Products\n",
    "y = round(((dfpowerproduction ['power'] - ymean)),4)\n",
    "x_Meanx =(dfpowerproduction ['speed'] - xmean)\n",
    "new_xy = round(sum(round((x_Meanx * y),4)),4)\n",
    "print (\"Sum of products =\", new_xy)"
   ]
  },
  {
   "cell_type": "code",
   "execution_count": 11,
   "metadata": {},
   "outputs": [
    {
     "name": "stdout",
     "output_type": "stream",
     "text": [
      "Slope (m) value in formula = 4.9176\n"
     ]
    }
   ],
   "source": [
    "# Calculate Slope\n",
    "m = round((new_xy/newx),5)\n",
    "print (\"Slope (m) value in formula =\", m) "
   ]
  },
  {
   "cell_type": "code",
   "execution_count": 12,
   "metadata": {},
   "outputs": [
    {
     "name": "stdout",
     "output_type": "stream",
     "text": [
      "Y intercept (b) value in formula = -13.89995\n"
     ]
    }
   ],
   "source": [
    "# Calculate Y-Intercept Value. \n",
    "b = round(ymean - (m * xmean),5)\n",
    "print (\"Y intercept (b) value in formula =\", b) "
   ]
  },
  {
   "cell_type": "markdown",
   "metadata": {},
   "source": [
    "**Regression Equation: y = 4.9176X - 13.89995** (errors can be explained through rounding errors)  \n",
    "***  \n",
    "#### Summary of Regression calculation can be found below: "
   ]
  },
  {
   "cell_type": "code",
   "execution_count": 13,
   "metadata": {},
   "outputs": [
    {
     "name": "stdout",
     "output_type": "stream",
     "text": [
      "The sum of X = 6295.199\n",
      "The sum of Y = 24007.292\n",
      "Average(Mean) of X = 12.5904\n",
      "Average(Mean) of Y = 48.0146\n",
      "Sum of Squares= 26048.0487\n",
      "Sum of products = 128093.7708\n",
      "Slope (m) value in formula = 4.9176\n",
      "Y intercept (b) value in formula = -13.89995\n"
     ]
    }
   ],
   "source": [
    "print (\"The sum of X =\", xsum)\n",
    "print (\"The sum of Y =\", ysum)\n",
    "print (\"Average(Mean) of X =\", xmean)\n",
    "print (\"Average(Mean) of Y =\", ymean)\n",
    "print (\"Sum of Squares=\", newx)\n",
    "print (\"Sum of products =\", new_xy)\n",
    "print (\"Slope (m) value in formula =\", m)\n",
    "print (\"Y intercept (b) value in formula =\", b) "
   ]
  },
  {
   "cell_type": "markdown",
   "metadata": {},
   "source": [
    "***\n",
    "#### R-Squared Value"
   ]
  },
  {
   "cell_type": "code",
   "execution_count": 14,
   "metadata": {},
   "outputs": [
    {
     "name": "stdout",
     "output_type": "stream",
     "text": [
      "R Squared Value = 0.7289\n"
     ]
    }
   ],
   "source": [
    "# https://www.kite.com/python/answers/how-to-calculate-r-squared-with-numpy-in-python#:~:text=corrcoef(x%2Cy)%20with,coefficient%20of%20determination%2C%20R%20squared.\n",
    "x_values = [Speeddata]\n",
    "y_values = [Powerdata]\n",
    "\n",
    "correlation_matrix = np.corrcoef(x_values, y_values)\n",
    "correlation_xy = correlation_matrix[0,1]\n",
    "r_squared = correlation_xy**2\n",
    "\n",
    "print (\"R Squared Value =\",round((r_squared),4))"
   ]
  },
  {
   "cell_type": "markdown",
   "metadata": {},
   "source": [
    "#### *Conclusion*\n",
    "\n"
   ]
  },
  {
   "cell_type": "markdown",
   "metadata": {},
   "source": [
    "*** \n",
    "#### END"
   ]
  }
 ],
 "metadata": {
  "kernelspec": {
   "display_name": "Python 3",
   "language": "python",
   "name": "python3"
  },
  "language_info": {
   "codemirror_mode": {
    "name": "ipython",
    "version": 3
   },
   "file_extension": ".py",
   "mimetype": "text/x-python",
   "name": "python",
   "nbconvert_exporter": "python",
   "pygments_lexer": "ipython3",
   "version": "3.8.3"
  }
 },
 "nbformat": 4,
 "nbformat_minor": 4
}
